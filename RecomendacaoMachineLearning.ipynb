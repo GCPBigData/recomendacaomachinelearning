{
 "cells": [
  {
   "cell_type": "markdown",
   "metadata": {},
   "source": [
    "Material do artigo: Como Criar um Sistema de Recomendação de Produtos Usando Machine Learning\n",
    "http://mariofilho.com/como-criar-um-sistema-de-recomendacao-de-produtos-usando-machine-learning/"
   ]
  },
  {
   "cell_type": "markdown",
   "metadata": {
    "collapsed": true
   },
   "source": [
    "## Carregamento dos Dados"
   ]
  },
  {
   "cell_type": "code",
   "execution_count": 3,
   "metadata": {
    "collapsed": false
   },
   "outputs": [],
   "source": [
    "import numpy as np\n",
    "from surprise import Reader, Dataset, BaselineOnly, SVD,  accuracy\n",
    "\n",
    "reader = Reader(line_format='user item rating', sep=',', skip_lines=1, rating_scale=(0,10))\n",
    "data = Dataset.load_from_file('BX-Book-Ratings_clean.csv', reader=reader)\n",
    "data.split(n_folds=3)"
   ]
  },
  {
   "cell_type": "markdown",
   "metadata": {},
   "source": [
    "## Primeiro Modelo"
   ]
  },
  {
   "cell_type": "code",
   "execution_count": 4,
   "metadata": {
    "collapsed": false
   },
   "outputs": [
    {
     "name": "stdout",
     "output_type": "stream",
     "text": [
      "Estimating biases using als...\n",
      "RMSE: 1.6482\n",
      "Estimating biases using als...\n",
      "RMSE: 1.6523\n",
      "Estimating biases using als...\n",
      "RMSE: 1.6614\n",
      "Mean RMSE 1.65396\n"
     ]
    }
   ],
   "source": [
    "model = BaselineOnly()\n",
    "\n",
    "results = []\n",
    "for train, val in data.folds():\n",
    "\n",
    "    model.train(train)\n",
    "    predictions = model.test(val)\n",
    "\n",
    "    rmse = accuracy.rmse(predictions, verbose=True)\n",
    "    results.append(rmse)\n",
    "print('Mean RMSE %.5f' % (np.mean(results)) )"
   ]
  },
  {
   "cell_type": "markdown",
   "metadata": {},
   "source": [
    "## Modelo mais Complexo"
   ]
  },
  {
   "cell_type": "code",
   "execution_count": 5,
   "metadata": {
    "collapsed": false
   },
   "outputs": [
    {
     "name": "stdout",
     "output_type": "stream",
     "text": [
      "RMSE: 1.7454\n",
      "RMSE: 1.7459\n",
      "RMSE: 1.7547\n",
      "Mean RMSE 1.74865\n"
     ]
    }
   ],
   "source": [
    "model = SVD()\n",
    "\n",
    "results = []\n",
    "for train, val in data.folds():\n",
    "\n",
    "    model.train(train)\n",
    "    predictions = model.test(val)\n",
    "\n",
    "    rmse = accuracy.rmse(predictions, verbose=True)\n",
    "    results.append(rmse)\n",
    "print('Mean RMSE %.5f' % (np.mean(results)) )"
   ]
  },
  {
   "cell_type": "code",
   "execution_count": null,
   "metadata": {
    "collapsed": true
   },
   "outputs": [],
   "source": []
  }
 ],
 "metadata": {
  "anaconda-cloud": {},
  "kernelspec": {
   "display_name": "Python [Root]",
   "language": "python",
   "name": "Python [Root]"
  },
  "language_info": {
   "codemirror_mode": {
    "name": "ipython",
    "version": 3
   },
   "file_extension": ".py",
   "mimetype": "text/x-python",
   "name": "python",
   "nbconvert_exporter": "python",
   "pygments_lexer": "ipython3",
   "version": "3.5.2"
  }
 },
 "nbformat": 4,
 "nbformat_minor": 0
}
